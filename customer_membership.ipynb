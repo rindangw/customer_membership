{
  "cells": [
    {
      "cell_type": "code",
      "execution_count": 1,
      "metadata": {
        "colab": {
          "base_uri": "https://localhost:8080/"
        },
        "id": "AYOj-UeULQib",
        "outputId": "a533cdfd-acda-4b33-db90-b1e9ad01b022"
      },
      "outputs": [
        {
          "name": "stdout",
          "output_type": "stream",
          "text": [
            "Requirement already satisfied: tabulate in c:\\users\\titik\\appdata\\local\\programs\\python\\python311\\lib\\site-packages (0.9.0)\n",
            "Note: you may need to restart the kernel to use updated packages.\n"
          ]
        },
        {
          "name": "stderr",
          "output_type": "stream",
          "text": [
            "\n",
            "[notice] A new release of pip available: 22.3.1 -> 24.3.1\n",
            "[notice] To update, run: python.exe -m pip install --upgrade pip\n"
          ]
        }
      ],
      "source": [
        "pip install tabulate"
      ]
    },
    {
      "cell_type": "code",
      "execution_count": 124,
      "metadata": {
        "id": "DspVLYMWOcIG"
      },
      "outputs": [],
      "source": [
        "from tabulate import tabulate\n",
        "from math import sqrt\n",
        "\n",
        "\n",
        "class Membership:\n",
        "\n",
        "  user_data = {'Sumbul': 'Platinum', 'Ana': 'Gold', 'Cahya': 'Platinum'}\n",
        "\n",
        "\n",
        "  membership = {\n",
        "     \"Membership\":[\"Platinum\", \"Gold\", \"Silver\"],\n",
        "     \"Discount\":[\"15%\",\"10%\",\"8%\"],\n",
        "     \"Another Benefit\":[\"Benefit Gold + Silver + Cashback max. 30%\",\"Benefit Silver + Voucher Ojek Online\", \"Voucher Makanan\"]\n",
        "  }\n",
        "\n",
        "  requirements = {\n",
        "     \"Membership\" : [\"Platinum\", \"Gold\", \"Silver\"],\n",
        "     \"Monthly Expense (juta)\":[8,6,5], \n",
        "     \"Monthly Income(juta)\":[15,10,7]\n",
        "  }\n",
        "\n",
        "  def __init__(self, username):\n",
        "    self.username = username\n",
        "\n",
        "  def show_benefit(self):\n",
        "    print(\"Benefit Membership PacCommerce\\n\")\n",
        "    print(tabulate(self.membership, headers='keys', tablefmt=\"grid\", stralign=\"center\"))\n",
        "\n",
        "  def show_requirements(self):\n",
        "    print(\"Requirements Membership PacCommerce\\n\")\n",
        "    print(tabulate(self.requirements, headers='keys', tablefmt=\"grid\", stralign=\"center\", numalign=\"center\"))\n",
        "\n",
        "  def predict_membership(self, monthly_expense, monthly_income):\n",
        "    self.monthly_expense = monthly_expense\n",
        "    self.monthly_income = monthly_income\n",
        "\n",
        "    euclidean_list = []\n",
        "    for i in range(len(self.requirements[\"Membership\"])):\n",
        "      euclidean_user = (sqrt(((monthly_expense - self.requirements[\"Monthly Expense (juta)\"][i])**2)+((monthly_income-self.requirements[\"Monthly Income(juta)\"][i])**2)))\n",
        "      euclidean_list.append(euclidean_user)\n",
        "\n",
        "    membership_list = self.requirements[\"Membership\"]\n",
        "    euclidean_dict = dict(zip(membership_list, euclidean_list))\n",
        "    print(f\"Hasil perhitungan Euclidean Distance dari user {self.username} adalah {euclidean_dict}\")\n",
        "    membership_predict = min(euclidean_dict, key=euclidean_dict.get)\n",
        "    print(membership_predict)\n",
        "\n",
        "    if self.username not in self.user_data:\n",
        "      self.user_data[self.username] = membership_predict\n",
        "\n",
        "\n",
        "  def show_membership(self):\n",
        "    if self.username in self.user_data:\n",
        "      return self.user_data[self.username]\n",
        "\n",
        "  def calculate_price(self,list_harga_barang):\n",
        "    self.list_harga_barang = list_harga_barang\n",
        "\n",
        "    total_harga = sum(list_harga_barang)\n",
        "    user_membership = self.show_membership()\n",
        "    index_membership = self.membership[\"Membership\"].index(user_membership)\n",
        "    discount_str = self.membership[\"Discount\"][index_membership]\n",
        "    discount = int(discount_str.rstrip(\"%\"))\n",
        "    final_price = total_harga * (1-(discount/100))\n",
        "    print(f'Final price: {final_price}')\n",
        "\n"
      ]
    },
    {
      "cell_type": "code",
      "execution_count": 125,
      "metadata": {
        "colab": {
          "base_uri": "https://localhost:8080/"
        },
        "id": "33lK3x4MLf2H",
        "outputId": "282f7836-8950-4f93-9f0b-f007a1dd3859"
      },
      "outputs": [],
      "source": [
        "daniel = Membership(username=\"Daniel\")\n",
        "aisyah = Membership(username=\"Aisyah\")"
      ]
    },
    {
      "cell_type": "code",
      "execution_count": 126,
      "metadata": {
        "id": "PMzBlNhgQS91"
      },
      "outputs": [
        {
          "name": "stdout",
          "output_type": "stream",
          "text": [
            "Benefit Membership PacCommerce\n",
            "\n",
            "+--------------+------------+-------------------------------------------+\n",
            "|  Membership  |  Discount  |              Another Benefit              |\n",
            "+==============+============+===========================================+\n",
            "|   Platinum   |    15%     | Benefit Gold + Silver + Cashback max. 30% |\n",
            "+--------------+------------+-------------------------------------------+\n",
            "|     Gold     |    10%     |   Benefit Silver + Voucher Ojek Online    |\n",
            "+--------------+------------+-------------------------------------------+\n",
            "|    Silver    |     8%     |              Voucher Makanan              |\n",
            "+--------------+------------+-------------------------------------------+\n"
          ]
        }
      ],
      "source": [
        "daniel.show_benefit()"
      ]
    },
    {
      "cell_type": "code",
      "execution_count": 127,
      "metadata": {
        "colab": {
          "base_uri": "https://localhost:8080/"
        },
        "id": "PjOplfzFQYU0",
        "outputId": "733ca0bc-140a-44e4-f6f9-61b968056076"
      },
      "outputs": [
        {
          "name": "stdout",
          "output_type": "stream",
          "text": [
            "Requirements Membership PacCommerce\n",
            "\n",
            "+--------------+--------------------------+------------------------+\n",
            "|  Membership  |  Monthly Expense (juta)  |  Monthly Income(juta)  |\n",
            "+==============+==========================+========================+\n",
            "|   Platinum   |            8             |           15           |\n",
            "+--------------+--------------------------+------------------------+\n",
            "|     Gold     |            6             |           10           |\n",
            "+--------------+--------------------------+------------------------+\n",
            "|    Silver    |            5             |           7            |\n",
            "+--------------+--------------------------+------------------------+\n"
          ]
        }
      ],
      "source": [
        "daniel.show_requirements()"
      ]
    },
    {
      "cell_type": "code",
      "execution_count": 128,
      "metadata": {
        "colab": {
          "base_uri": "https://localhost:8080/"
        },
        "id": "TIJaFtDLShP0",
        "outputId": "2cb04803-b914-4175-92eb-220f0ba39b5c"
      },
      "outputs": [
        {
          "name": "stdout",
          "output_type": "stream",
          "text": [
            "Hasil perhitungan Euclidean Distance dari user Daniel adalah {'Platinum': 3.1622776601683795, 'Gold': 3.605551275463989, 'Silver': 6.4031242374328485}\n",
            "Platinum\n"
          ]
        }
      ],
      "source": [
        "daniel.predict_membership(9,12)"
      ]
    },
    {
      "cell_type": "code",
      "execution_count": 129,
      "metadata": {
        "colab": {
          "base_uri": "https://localhost:8080/"
        },
        "id": "pi8S0rJqXXRc",
        "outputId": "75fee012-5cb4-4e8b-9aee-aa71f562d42e"
      },
      "outputs": [
        {
          "name": "stdout",
          "output_type": "stream",
          "text": [
            "Hasil perhitungan Euclidean Distance dari user Aisyah adalah {'Platinum': 3.605551275463989, 'Gold': 2.0, 'Silver': 5.0990195135927845}\n",
            "Gold\n"
          ]
        }
      ],
      "source": [
        "aisyah.predict_membership(6,12)"
      ]
    },
    {
      "cell_type": "code",
      "execution_count": 130,
      "metadata": {
        "colab": {
          "base_uri": "https://localhost:8080/"
        },
        "id": "YGioU3DwXaK0",
        "outputId": "7b17f38d-afa3-4a11-8947-12c15c0c6105"
      },
      "outputs": [
        {
          "data": {
            "text/plain": [
              "{'Sumbul': 'Platinum',\n",
              " 'Ana': 'Gold',\n",
              " 'Cahya': 'Platinum',\n",
              " 'Daniel': 'Platinum',\n",
              " 'Aisyah': 'Gold'}"
            ]
          },
          "execution_count": 130,
          "metadata": {},
          "output_type": "execute_result"
        }
      ],
      "source": [
        "daniel.user_data"
      ]
    },
    {
      "cell_type": "code",
      "execution_count": 131,
      "metadata": {
        "id": "hvSRaN99JRqb"
      },
      "outputs": [
        {
          "name": "stdout",
          "output_type": "stream",
          "text": [
            "Final price: 637500.0\n"
          ]
        }
      ],
      "source": [
        "daniel.calculate_price([150_000,200_000,400_000])"
      ]
    },
    {
      "cell_type": "code",
      "execution_count": 132,
      "metadata": {},
      "outputs": [
        {
          "name": "stdout",
          "output_type": "stream",
          "text": [
            "Final price: 675000.0\n"
          ]
        }
      ],
      "source": [
        "aisyah.calculate_price([150_000,200_000,400_000])"
      ]
    }
  ],
  "metadata": {
    "colab": {
      "provenance": []
    },
    "kernelspec": {
      "display_name": "Python 3",
      "name": "python3"
    },
    "language_info": {
      "codemirror_mode": {
        "name": "ipython",
        "version": 3
      },
      "file_extension": ".py",
      "mimetype": "text/x-python",
      "name": "python",
      "nbconvert_exporter": "python",
      "pygments_lexer": "ipython3",
      "version": "3.11.1"
    }
  },
  "nbformat": 4,
  "nbformat_minor": 0
}
